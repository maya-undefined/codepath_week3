{
 "cells": [
  {
   "cell_type": "code",
   "execution_count": 2,
   "id": "1c85f212-415b-4b1d-ac86-3e6524b65a4e",
   "metadata": {},
   "outputs": [
    {
     "ename": "KeyError",
     "evalue": "'main'",
     "output_type": "error",
     "traceback": [
      "\u001b[0;31m---------------------------------------------------------------------------\u001b[0m",
      "\u001b[0;31mKeyError\u001b[0m                                  Traceback (most recent call last)",
      "Cell \u001b[0;32mIn[2], line 59\u001b[0m\n\u001b[1;32m     56\u001b[0m     cl\u001b[38;5;241m.\u001b[39muser_session\u001b[38;5;241m.\u001b[39mset(\u001b[38;5;124m\"\u001b[39m\u001b[38;5;124mmessage_history\u001b[39m\u001b[38;5;124m\"\u001b[39m, message_history)\n\u001b[1;32m     58\u001b[0m \u001b[38;5;28;01mif\u001b[39;00m \u001b[38;5;18m__name__\u001b[39m \u001b[38;5;241m==\u001b[39m \u001b[38;5;124m\"\u001b[39m\u001b[38;5;124m__main__\u001b[39m\u001b[38;5;124m\"\u001b[39m:\n\u001b[0;32m---> 59\u001b[0m     \u001b[43mcl\u001b[49m\u001b[38;5;241;43m.\u001b[39;49m\u001b[43mmain\u001b[49m()\n",
      "File \u001b[0;32m~/code/codepath/venv/lib/python3.10/site-packages/chainlit/utils.py:70\u001b[0m, in \u001b[0;36mmake_module_getattr.<locals>.__getattr__\u001b[0;34m(name)\u001b[0m\n\u001b[1;32m     69\u001b[0m \u001b[38;5;28;01mdef\u001b[39;00m \u001b[38;5;21m__getattr__\u001b[39m(name):\n\u001b[0;32m---> 70\u001b[0m     module_path \u001b[38;5;241m=\u001b[39m \u001b[43mregistry\u001b[49m\u001b[43m[\u001b[49m\u001b[43mname\u001b[49m\u001b[43m]\u001b[49m\n\u001b[1;32m     71\u001b[0m     module \u001b[38;5;241m=\u001b[39m importlib\u001b[38;5;241m.\u001b[39mimport_module(module_path, __package__)\n\u001b[1;32m     72\u001b[0m     \u001b[38;5;28;01mreturn\u001b[39;00m \u001b[38;5;28mgetattr\u001b[39m(module, name)\n",
      "\u001b[0;31mKeyError\u001b[0m: 'main'"
     ]
    }
   ],
   "source": [
    "# from dotenv import load_dotenv\n",
    "import chainlit as cl\n",
    "from dotenv import load_dotenv\n",
    "\n",
    "load_dotenv()\n",
    "\n",
    "# Note: If switching to LangSmith, uncomment the following, and replace @observe with @traceable\n",
    "# from langsmith.wrappers import wrap_openai\n",
    "# from langsmith import traceable\n",
    "# client = wrap_openai(openai.AsyncClient())\n",
    "\n",
    "from langfuse.decorators import observe\n",
    "from langfuse.openai import AsyncOpenAI\n",
    " \n",
    "client = AsyncOpenAI()\n",
    "\n",
    "gen_kwargs = {\n",
    "    \"model\": \"gpt-4o\",\n",
    "    \"temperature\": 0.2,\n",
    "    \"max_tokens\": 500\n",
    "}\n",
    "\n",
    "SYSTEM_PROMPT = \"\"\"\\\n",
    "You are a pirate.\n",
    "\"\"\"\n",
    "\n",
    "@observe\n",
    "@cl.on_chat_start\n",
    "def on_chat_start():    \n",
    "    message_history = [{\"role\": \"system\", \"content\": SYSTEM_PROMPT}]\n",
    "    cl.user_session.set(\"message_history\", message_history)\n",
    "\n",
    "@observe\n",
    "async def generate_response(client, message_history, gen_kwargs):\n",
    "    response_message = cl.Message(content=\"\")\n",
    "    await response_message.send()\n",
    "\n",
    "    stream = await client.chat.completions.create(messages=message_history, stream=True, **gen_kwargs)\n",
    "    async for part in stream:\n",
    "        if token := part.choices[0].delta.content or \"\":\n",
    "            await response_message.stream_token(token)\n",
    "    \n",
    "    await response_message.update()\n",
    "\n",
    "    return response_message\n",
    "\n",
    "@cl.on_message\n",
    "@observe\n",
    "async def on_message(message: cl.Message):\n",
    "    message_history = cl.user_session.get(\"message_history\", [])\n",
    "    message_history.append({\"role\": \"user\", \"content\": message.content})\n",
    "    \n",
    "    response_message = await generate_response(client, message_history, gen_kwargs)\n",
    "\n",
    "    message_history.append({\"role\": \"assistant\", \"content\": response_message.content})\n",
    "    cl.user_session.set(\"message_history\", message_history)\n",
    "\n",
    "if __name__ == \"__main__\":\n",
    "    cl.main()\n"
   ]
  },
  {
   "cell_type": "code",
   "execution_count": null,
   "id": "c0ecb7b4-9bd4-4417-85b9-286cb90407cc",
   "metadata": {},
   "outputs": [],
   "source": []
  }
 ],
 "metadata": {
  "kernelspec": {
   "display_name": "Python 3 (ipykernel)",
   "language": "python",
   "name": "python3"
  },
  "language_info": {
   "codemirror_mode": {
    "name": "ipython",
    "version": 3
   },
   "file_extension": ".py",
   "mimetype": "text/x-python",
   "name": "python",
   "nbconvert_exporter": "python",
   "pygments_lexer": "ipython3",
   "version": "3.10.12"
  }
 },
 "nbformat": 4,
 "nbformat_minor": 5
}
